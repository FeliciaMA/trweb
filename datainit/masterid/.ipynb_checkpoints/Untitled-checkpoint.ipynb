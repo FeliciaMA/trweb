{
 "cells": [
  {
   "cell_type": "code",
   "execution_count": 12,
   "metadata": {
    "collapsed": true
   },
   "outputs": [],
   "source": [
    "from xlrd import open_workbook\n",
    "# the file path of the writing excel\n",
    "newPath = 'C:/project/Lixi/new ID file.csv'\n",
    "rb = open_workbook(wfPath)\n",
    "rSH = rb.sheet_by_index(0)"
   ]
  },
  {
   "cell_type": "code",
   "execution_count": 2,
   "metadata": {
    "collapsed": true
   },
   "outputs": [],
   "source": [
    "nrows = rSH.nrows"
   ]
  },
  {
   "cell_type": "code",
   "execution_count": 3,
   "metadata": {
    "collapsed": true
   },
   "outputs": [],
   "source": [
    "ncols = rSH.ncols"
   ]
  },
  {
   "cell_type": "code",
   "execution_count": 7,
   "metadata": {
    "collapsed": false
   },
   "outputs": [],
   "source": [
    "oldPath = 'C:/project/Lixi/ID file.xlsx'"
   ]
  },
  {
   "cell_type": "code",
   "execution_count": 8,
   "metadata": {
    "collapsed": false
   },
   "outputs": [],
   "source": [
    "oldRB = open_workbook(oldPath)\n",
    "oldRSH = oldRB.sheet_by_index(0)\n",
    "oldRows = oldRSH.nrows\n",
    "oldCols = oldRSH.ncols"
   ]
  },
  {
   "cell_type": "code",
   "execution_count": 11,
   "metadata": {
    "collapsed": false
   },
   "outputs": [],
   "source": [
    "oldDict = {}\n",
    "oldRepeat = 0\n",
    "for i in range(1,oldRows):\n",
    "    ric = oldRSH.cell_value(i,1)\n",
    "    if ric not in oldDict:\n",
    "        oldDict[ric] = {}\n",
    "    else:\n",
    "        oldRepeat += 1\n",
    "        continue\n",
    "    for j in range(oldCols):\n",
    "        oldDict[ric][j] = oldRSH.cell_value(i,j)\n",
    "        "
   ]
  },
  {
   "cell_type": "code",
   "execution_count": 15,
   "metadata": {
    "collapsed": true
   },
   "outputs": [],
   "source": [
    "import csv\n",
    "newRicDict = {}\n",
    "newRepeat = 0\n",
    "repeatArr = []\n",
    "with open(newPath,\"r\") as csvfile:\n",
    "    spamreader = csv.reader(csvfile, delimiter=',', quotechar='\"')\n",
    "    for rowArr in spamreader:\n",
    "        ric = rowArr[1]\n",
    "        if ric not in newRicDict:\n",
    "            newRicDict[ric] = 1\n",
    "        else:\n",
    "            newRepeat += 1\n",
    "            repeatArr.append(ric)"
   ]
  },
  {
   "cell_type": "code",
   "execution_count": 16,
   "metadata": {
    "collapsed": false
   },
   "outputs": [
    {
     "data": {
      "text/plain": [
       "['TECM.MC']"
      ]
     },
     "execution_count": 16,
     "metadata": {},
     "output_type": "execute_result"
    }
   ],
   "source": [
    "repeatArr"
   ]
  },
  {
   "cell_type": "code",
   "execution_count": 27,
   "metadata": {
    "collapsed": false
   },
   "outputs": [],
   "source": [
    "csvfile = file(newPath, 'ab+')\n",
    "writer = csv.writer(csvfile)\n",
    "oldRB = open_workbook(oldPath)\n",
    "oldRSH = oldRB.sheet_by_index(0)\n",
    "oldRows = oldRSH.nrows\n",
    "oldCols = oldRSH.ncols\n",
    "oldDict = {}\n",
    "oldRepeat = 0\n",
    "insertNum = 0\n",
    "writeRowArr = []\n",
    "for i in range(1,oldRows):\n",
    "    ric = oldRSH.cell_value(i,1)\n",
    "    if ric not in oldDict:\n",
    "        oldDict[ric] = 1\n",
    "    else:\n",
    "        oldRepeat += 1\n",
    "        continue\n",
    "    if ric not in newRicDict:\n",
    "        insertNum += 1\n",
    "        tmp = []\n",
    "        for j in range(8):\n",
    "            tmp.append(oldRSH.cell_value(i,j))\n",
    "        tmp.append(oldRSH.cell_value(i,9))\n",
    "        writeRowArr.append(tmp)\n",
    "        \n",
    "writer.writerows(writeRowArr)"
   ]
  },
  {
   "cell_type": "code",
   "execution_count": 28,
   "metadata": {
    "collapsed": true
   },
   "outputs": [],
   "source": [
    "csvfile.close()"
   ]
  },
  {
   "cell_type": "code",
   "execution_count": 29,
   "metadata": {
    "collapsed": false
   },
   "outputs": [
    {
     "data": {
      "text/plain": [
       "22165"
      ]
     },
     "execution_count": 29,
     "metadata": {},
     "output_type": "execute_result"
    }
   ],
   "source": [
    "insertNum"
   ]
  },
  {
   "cell_type": "code",
   "execution_count": 30,
   "metadata": {
    "collapsed": true
   },
   "outputs": [],
   "source": [
    "newRicRetrieve = open(\"newric.log\", \"w\")\n",
    "for ric in newRicDict:\n",
    "    if ric not in oldDict:\n",
    "        newRicRetrieve.write(ric+\"\\r\\n\")"
   ]
  },
  {
   "cell_type": "code",
   "execution_count": null,
   "metadata": {
    "collapsed": true
   },
   "outputs": [],
   "source": []
  }
 ],
 "metadata": {
  "kernelspec": {
   "display_name": "Python 2",
   "language": "python",
   "name": "python2"
  },
  "language_info": {
   "codemirror_mode": {
    "name": "ipython",
    "version": 2
   },
   "file_extension": ".py",
   "mimetype": "text/x-python",
   "name": "python",
   "nbconvert_exporter": "python",
   "pygments_lexer": "ipython2",
   "version": "2.7.11"
  }
 },
 "nbformat": 4,
 "nbformat_minor": 0
}

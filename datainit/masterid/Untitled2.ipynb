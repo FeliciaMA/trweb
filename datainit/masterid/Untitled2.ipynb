{
 "cells": [
  {
   "cell_type": "code",
   "execution_count": 3,
   "metadata": {
    "collapsed": true
   },
   "outputs": [],
   "source": [
    "import xlrd\n",
    "filePath = \"C:/project/Lixi/ID file.xlsx\"\n",
    "# the function to handle excel\n",
    "def openSH(fName,shName):\n",
    "    bk = xlrd.open_workbook(fName)\n",
    "    try:\n",
    "        sh = bk.sheet_by_name(shName)\n",
    "        return sh\n",
    "    except:\n",
    "        print \"no sheet in \" + fName + \" named \" + shName\n",
    "        return None"
   ]
  },
  {
   "cell_type": "code",
   "execution_count": 4,
   "metadata": {
    "collapsed": false
   },
   "outputs": [],
   "source": [
    "curSH = openSH(filePath,\"Sheet1\")\n",
    "numRows = curSH.nrows\n",
    "numCols = curSH.ncols"
   ]
  },
  {
   "cell_type": "code",
   "execution_count": 5,
   "metadata": {
    "collapsed": true
   },
   "outputs": [],
   "source": [
    "countryDict = {}\n",
    "for i in range(1,numRows):\n",
    "    country = curSH.cell_value(i,6)\n",
    "    if country in countryDict:\n",
    "        continue\n",
    "    countryDict[country] = curSH.cell_value(i,8)"
   ]
  },
  {
   "cell_type": "code",
   "execution_count": 21,
   "metadata": {
    "collapsed": false
   },
   "outputs": [],
   "source": [
    "newPath = \"C:/project/Lixi/raw/new ID file_final.xlsx\"\n",
    "newSH = openSH(newPath,\"new ID file\")\n",
    "numRows = newSH.nrows\n",
    "numCols = newSH.ncols"
   ]
  },
  {
   "cell_type": "code",
   "execution_count": 22,
   "metadata": {
    "collapsed": true
   },
   "outputs": [],
   "source": [
    "exchangeDict = {}\n",
    "for i in range(1,numRows):\n",
    "    exchange = newSH.cell_value(i,7)\n",
    "    if exchange in exchangeDict:\n",
    "        continue\n",
    "    exchangeDict[exchange] = newSH.cell_value(i,6)"
   ]
  },
  {
   "cell_type": "code",
   "execution_count": 11,
   "metadata": {
    "collapsed": false
   },
   "outputs": [],
   "source": [
    "RAW_HOST = 'localhost'\n",
    "RAW_USER = 'root'\n",
    "RAW_PASS = ''\n",
    "DB_NAME = 'trweb'\n",
    "REC_TBNAME = 'tr_insert_record'\n",
    "TB_NAME = 'tr_exchange_info'"
   ]
  },
  {
   "cell_type": "code",
   "execution_count": 12,
   "metadata": {
    "collapsed": false
   },
   "outputs": [
    {
     "data": {
      "text/plain": [
       "0L"
      ]
     },
     "execution_count": 12,
     "metadata": {},
     "output_type": "execute_result"
    }
   ],
   "source": [
    "import MySQLdb\n",
    "\n",
    "# connect to database\n",
    "conn = MySQLdb.connect(host=RAW_HOST,user=RAW_USER,passwd=RAW_PASS)\n",
    "cur = conn.cursor()\n",
    "# switch to trweb\n",
    "cur.execute(\"USE trweb\")"
   ]
  },
  {
   "cell_type": "code",
   "execution_count": 13,
   "metadata": {
    "collapsed": true
   },
   "outputs": [],
   "source": [
    "# create table for the daily table\n",
    "sql = \"CREATE TABLE IF NOT EXISTS \" + TB_NAME + \"\"\" ( \n",
    "    `pk` int unsigned AUTO_INCREMENT PRIMARY KEY,\n",
    "    exchange varchar(100) NOT NULL DEFAULT '',\n",
    "    country varchar(32) NOT NULL DEFAULT '',\n",
    "    market_type varchar(32) NOT NULL DEFAULT ''\n",
    ")ENGINE=InnoDB DEFAULT CHARSET=utf8;\n",
    "\"\"\"\n",
    "cur.execute(sql)\n",
    "conn.commit()"
   ]
  },
  {
   "cell_type": "code",
   "execution_count": 23,
   "metadata": {
    "collapsed": false
   },
   "outputs": [
    {
     "data": {
      "text/plain": [
       "171"
      ]
     },
     "execution_count": 23,
     "metadata": {},
     "output_type": "execute_result"
    }
   ],
   "source": [
    "len(exchangeDict)"
   ]
  },
  {
   "cell_type": "code",
   "execution_count": 26,
   "metadata": {
    "collapsed": false
   },
   "outputs": [
    {
     "name": "stdout",
     "output_type": "stream",
     "text": [
      "Trinidad and Tobago\n",
      "Sri Lanka\n",
      "Luxembourg\n",
      "Guernsey\n"
     ]
    }
   ],
   "source": [
    "for exchange in exchangeDict:\n",
    "    country = exchangeDict[exchange]\n",
    "    if country not in countryDict:\n",
    "        print country\n",
    "        continue\n",
    "    if exchange == \"\":\n",
    "        continue\n",
    "    sql = \"INSERT INTO \" + TB_NAME + '(exchange,country,market_type) VALUES(\"' \\\n",
    "    + exchange +'\",\"' + country + '\",\"' + countryDict[country] + '\")'\n",
    "    try:\n",
    "        cur.execute(sql)\n",
    "    except:\n",
    "        print sql\n",
    "    conn.commit()"
   ]
  },
  {
   "cell_type": "code",
   "execution_count": null,
   "metadata": {
    "collapsed": true
   },
   "outputs": [],
   "source": []
  }
 ],
 "metadata": {
  "kernelspec": {
   "display_name": "Python 2",
   "language": "python",
   "name": "python2"
  },
  "language_info": {
   "codemirror_mode": {
    "name": "ipython",
    "version": 2
   },
   "file_extension": ".py",
   "mimetype": "text/x-python",
   "name": "python",
   "nbconvert_exporter": "python",
   "pygments_lexer": "ipython2",
   "version": "2.7.11"
  }
 },
 "nbformat": 4,
 "nbformat_minor": 0
}

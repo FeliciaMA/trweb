{
 "cells": [
  {
   "cell_type": "code",
   "execution_count": 1,
   "metadata": {
    "collapsed": true
   },
   "outputs": [],
   "source": [
    "import xlrd\n",
    "filePath = \"C:/project/Lixi/raw/new ID file_final.xlsx\"\n",
    "# the function to handle excel\n",
    "def openSH(fName,shName):\n",
    "    bk = xlrd.open_workbook(fName)\n",
    "    try:\n",
    "        sh = bk.sheet_by_name(shName)\n",
    "        return sh\n",
    "    except:\n",
    "        print \"no sheet in \" + fName + \" named \" + shName\n",
    "        return None"
   ]
  },
  {
   "cell_type": "code",
   "execution_count": 2,
   "metadata": {
    "collapsed": true
   },
   "outputs": [],
   "source": [
    "curSH = openSH(filePath,\"new ID file\")"
   ]
  },
  {
   "cell_type": "code",
   "execution_count": 3,
   "metadata": {
    "collapsed": true
   },
   "outputs": [],
   "source": [
    "numRows = curSH.nrows\n",
    "numCols = curSH.ncols"
   ]
  },
  {
   "cell_type": "code",
   "execution_count": 20,
   "metadata": {
    "collapsed": true
   },
   "outputs": [],
   "source": [
    "statDict = {i:0 for i in range(numCols)}"
   ]
  },
  {
   "cell_type": "code",
   "execution_count": 21,
   "metadata": {
    "collapsed": true
   },
   "outputs": [],
   "source": [
    "probCell = []"
   ]
  },
  {
   "cell_type": "code",
   "execution_count": 22,
   "metadata": {
    "collapsed": true
   },
   "outputs": [],
   "source": [
    "bigCap = {}"
   ]
  },
  {
   "cell_type": "code",
   "execution_count": 23,
   "metadata": {
    "collapsed": true
   },
   "outputs": [],
   "source": [
    "for i in range(1,numRows):\n",
    "    for j in range(numCols):\n",
    "        val = curSH.cell_value(i,j)\n",
    "        curLen = len(str(val))\n",
    "        if curLen > statDict[j]:\n",
    "            statDict[j] = curLen\n",
    "            if j == 14:\n",
    "                bigCap['ind'] = i\n",
    "                bigCap['val'] = val\n",
    "        if j == 12 and curLen > 3:\n",
    "            probCell.append(val)"
   ]
  },
  {
   "cell_type": "code",
   "execution_count": 24,
   "metadata": {
    "collapsed": false
   },
   "outputs": [
    {
     "data": {
      "text/plain": [
       "{0: 106,\n",
       " 1: 20,\n",
       " 2: 11,\n",
       " 3: 9,\n",
       " 4: 12,\n",
       " 5: 35,\n",
       " 6: 20,\n",
       " 7: 81,\n",
       " 8: 44,\n",
       " 9: 94,\n",
       " 10: 94,\n",
       " 11: 16,\n",
       " 12: 3,\n",
       " 13: 3,\n",
       " 14: 17,\n",
       " 15: 28}"
      ]
     },
     "execution_count": 24,
     "metadata": {},
     "output_type": "execute_result"
    }
   ],
   "source": [
    "statDict"
   ]
  },
  {
   "cell_type": "code",
   "execution_count": 25,
   "metadata": {
    "collapsed": false
   },
   "outputs": [
    {
     "data": {
      "text/plain": [
       "{'ind': 1956, 'val': 100260875932.0}"
      ]
     },
     "execution_count": 25,
     "metadata": {},
     "output_type": "execute_result"
    }
   ],
   "source": [
    "bigCap"
   ]
  },
  {
   "cell_type": "code",
   "execution_count": 18,
   "metadata": {
    "collapsed": false
   },
   "outputs": [
    {
     "data": {
      "text/plain": [
       "17759562.0"
      ]
     },
     "execution_count": 18,
     "metadata": {},
     "output_type": "execute_result"
    }
   ],
   "source": [
    "curSH.cell_value(2,14)"
   ]
  },
  {
   "cell_type": "code",
   "execution_count": null,
   "metadata": {
    "collapsed": true
   },
   "outputs": [],
   "source": []
  }
 ],
 "metadata": {
  "kernelspec": {
   "display_name": "Python 2",
   "language": "python",
   "name": "python2"
  },
  "language_info": {
   "codemirror_mode": {
    "name": "ipython",
    "version": 2
   },
   "file_extension": ".py",
   "mimetype": "text/x-python",
   "name": "python",
   "nbconvert_exporter": "python",
   "pygments_lexer": "ipython2",
   "version": "2.7.11"
  }
 },
 "nbformat": 4,
 "nbformat_minor": 0
}
